{
  "nbformat": 4,
  "nbformat_minor": 0,
  "metadata": {
    "colab": {
      "provenance": []
    },
    "kernelspec": {
      "name": "python3",
      "display_name": "Python 3"
    },
    "language_info": {
      "name": "python"
    }
  },
  "cells": [
    {
      "cell_type": "code",
      "source": [
        "import pandas as pd\n",
        "import numpy as np\n",
        "import seaborn as sns\n",
        "import matplotlib.pyplot as plt\n",
        "from sklearn.model_selection import train_test_split, GridSearchCV\n",
        "from sklearn.ensemble import RandomForestClassifier\n",
        "from sklearn.metrics import classification_report, confusion_matrix\n",
        "from sklearn.preprocessing import MinMaxScaler\n",
        "from sklearn.preprocessing import LabelEncoder\n",
        "from sklearn.metrics import accuracy_score\n",
        "from sklearn.metrics import precision_score\n",
        "from sklearn.metrics import recall_score\n",
        "from sklearn.metrics import f1_score\n",
        "import joblib\n",
        "\n",
        "# Load Instagram dataset\n",
        "instagram_data = pd.read_csv('/content/instagram .csv')\n",
        "\n",
        "# Load TikTok dataset\n",
        "tiktok_data = pd.read_csv('/content/tiktok .csv')\n",
        "\n",
        "# Load YouTube dataset\n",
        "youtube_data = pd.read_csv('/content/youtube .csv')"
      ],
      "metadata": {
        "id": "57e8Aek60u1L"
      },
      "execution_count": 2,
      "outputs": []
    },
    {
      "cell_type": "markdown",
      "source": [
        "PREPROCESSING"
      ],
      "metadata": {
        "id": "ug4xf-8NJHZl"
      }
    },
    {
      "cell_type": "code",
      "source": [
        "import re\n",
        "\n",
        "# Define replacements as a dictionary\n",
        "replacements = {'m': '000000', 'k': '000', '.': ''}\n",
        "\n",
        "# Create a function for regex replacements\n",
        "def multiple_replace(value):\n",
        "    if isinstance(value, str):\n",
        "        for old, new in replacements.items():\n",
        "            value = re.sub(re.escape(old), new, value)\n",
        "    return value"
      ],
      "metadata": {
        "id": "Sdv-od2oedgJ"
      },
      "execution_count": 5,
      "outputs": []
    },
    {
      "cell_type": "code",
      "execution_count": 6,
      "metadata": {
        "colab": {
          "base_uri": "https://localhost:8080/"
        },
        "id": "R8lPQg_AwSIo",
        "outputId": "7fc4a0f4-0d48-4217-a3ee-1e25e5c2f95d"
      },
      "outputs": [
        {
          "output_type": "stream",
          "name": "stdout",
          "text": [
            "Index(['name', 'instagram name.1', 'category', 'category_2', 'followers',\n",
            "       'audience country(mostly)', 'authentic_engagement', 'engagement_avg',\n",
            "       'platform'],\n",
            "      dtype='object')\n"
          ]
        }
      ],
      "source": [
        "instagram_data = instagram_data.rename(columns={\n",
        "    'instagram name': 'name', 'category_1': 'category', 'followers': 'followers',\n",
        "    'authentic engagement': 'authentic_engagement', 'engagement avg': 'engagement_avg'\n",
        "})\n",
        "print(instagram_data.columns)\n",
        "\n",
        "instagram_data['platform'] = 'Instagram'\n",
        "\n",
        "# Remove characters from the numbers\n",
        "instagram_data['followers'] = instagram_data['followers'].apply(multiple_replace)\n",
        "instagram_data['authentic_engagement'] = instagram_data['authentic_engagement'].apply(multiple_replace)\n",
        "instagram_data['engagement_avg'] = instagram_data['engagement_avg'].apply(multiple_replace)\n",
        "\n",
        "# Normalize numeric columns\n",
        "instagram_data['followers'] = pd.to_numeric(instagram_data['followers'], errors='coerce')\n",
        "instagram_data['authentic_engagement'] = pd.to_numeric(instagram_data['authentic_engagement'], errors='coerce')\n",
        "instagram_data['engagement_avg'] = pd.to_numeric(instagram_data['engagement_avg'], errors='coerce')\n",
        "instagram_data.fillna(0, inplace=True)"
      ]
    },
    {
      "cell_type": "code",
      "source": [
        "tiktok_data = tiktok_data.rename(columns={\n",
        "    'tiktoker name': 'name', 'views(avg.)': 'views_avg', 'likes(avg.)': 'likes_avg',\n",
        "    'comments(avg.)': 'comments_avg', 'shares(avg.)': 'shares_avg'\n",
        "})\n",
        "print(tiktok_data.columns)\n",
        "\n",
        "tiktok_data['platform'] = 'TikTok'\n",
        "\n",
        "# Remove characters from the numbers\n",
        "tiktok_data['followers'] = tiktok_data['followers'].apply(multiple_replace)\n",
        "tiktok_data['views_avg'] = tiktok_data['views_avg'].apply(multiple_replace)\n",
        "tiktok_data['likes_avg'] = tiktok_data['likes_avg'].apply(multiple_replace)\n",
        "tiktok_data['comments_avg'] = tiktok_data['comments_avg'].apply(multiple_replace)\n",
        "tiktok_data['shares_avg'] = tiktok_data['shares_avg'].apply(multiple_replace)\n",
        "\n",
        "# Normalize numeric columns\n",
        "tiktok_data['followers'] = pd.to_numeric(tiktok_data['followers'], errors='coerce')\n",
        "tiktok_data['views_avg'] = pd.to_numeric(tiktok_data['views_avg'], errors='coerce')\n",
        "tiktok_data['likes_avg'] = pd.to_numeric(tiktok_data['likes_avg'], errors='coerce')\n",
        "tiktok_data['comments_avg'] = pd.to_numeric(tiktok_data['comments_avg'], errors='coerce')\n",
        "tiktok_data['shares_avg'] = pd.to_numeric(tiktok_data['shares_avg'], errors='coerce')\n",
        "tiktok_data.fillna(0, inplace=True)"
      ],
      "metadata": {
        "colab": {
          "base_uri": "https://localhost:8080/"
        },
        "id": "MZjFS2yLwVAc",
        "outputId": "038dc725-af3c-4621-d484-bf8bb534e74a"
      },
      "execution_count": 8,
      "outputs": [
        {
          "output_type": "stream",
          "name": "stdout",
          "text": [
            "Index(['name', 'tiktok name', 'followers', 'views_avg', 'likes_avg',\n",
            "       'comments_avg', 'shares_avg', 'platform'],\n",
            "      dtype='object')\n"
          ]
        }
      ]
    },
    {
      "cell_type": "code",
      "source": [
        "youtube_data = youtube_data.rename(columns={\n",
        "    'youtuber name': 'name', 'views(avg.)': 'views_avg', 'likes(avg.)': 'likes_avg',\n",
        "    'comments(avg.)': 'comments_avg'\n",
        "})\n",
        "print(youtube_data.columns)\n",
        "youtube_data['platform'] = 'YouTube'\n",
        "\n",
        "# Remove characters from the numbers\n",
        "youtube_data['followers'] = youtube_data['followers'].apply(multiple_replace)\n",
        "youtube_data['views_avg'] = youtube_data['views_avg'].apply(multiple_replace)\n",
        "youtube_data['likes_avg'] = youtube_data['likes_avg'].apply(multiple_replace)\n",
        "youtube_data['comments_avg'] = youtube_data['comments_avg'].apply(multiple_replace)\n",
        "\n",
        "# Normalize numeric columns\n",
        "youtube_data['followers'] = pd.to_numeric(youtube_data['followers'], errors='coerce')\n",
        "youtube_data['views_avg'] = pd.to_numeric(youtube_data['views_avg'], errors='coerce')\n",
        "youtube_data['likes_avg'] = pd.to_numeric(youtube_data['likes_avg'], errors='coerce')\n",
        "youtube_data['comments_avg'] = pd.to_numeric(youtube_data['comments_avg'], errors='coerce')\n",
        "youtube_data.fillna(0, inplace=True)"
      ],
      "metadata": {
        "colab": {
          "base_uri": "https://localhost:8080/"
        },
        "id": "9-Symr09wVCz",
        "outputId": "e05bbb84-f30a-44d4-d62c-1bf14c7b3425"
      },
      "execution_count": 9,
      "outputs": [
        {
          "output_type": "stream",
          "name": "stdout",
          "text": [
            "Index(['name', 'channel name', 'category', 'followers', 'audience country',\n",
            "       'views_avg', 'likes_avg', 'comments_avg'],\n",
            "      dtype='object')\n"
          ]
        }
      ]
    },
    {
      "cell_type": "markdown",
      "source": [
        "CONCATENATION"
      ],
      "metadata": {
        "id": "o8UbaGF9JQ2G"
      }
    },
    {
      "cell_type": "code",
      "source": [
        "# Select common columns and combine datasets\n",
        "# instagram_data['engagement_avg'] = instagram_data['authentic_engagement'] / instagram_data['followers']\n",
        "tiktok_data['engagement_avg'] = (\n",
        "    tiktok_data['likes_avg'] + tiktok_data['comments_avg'] + tiktok_data['shares_avg']\n",
        ") / tiktok_data['views_avg']\n",
        "youtube_data['engagement_avg'] = (\n",
        "    youtube_data['likes_avg'] + youtube_data['comments_avg']\n",
        ") / youtube_data['views_avg']\n",
        "\n",
        "common_columns = ['name', 'followers', 'engagement_avg', 'platform']\n",
        "combined_data = pd.concat([\n",
        "    instagram_data[common_columns],\n",
        "    tiktok_data[common_columns],\n",
        "    youtube_data[common_columns]\n",
        "])\n",
        "\n",
        "# Fill NaN values and reset index\n",
        "combined_data.fillna(0, inplace=True)\n",
        "combined_data.reset_index(drop=True, inplace=True)\n",
        "\n",
        "print(combined_data.columns)\n",
        "\n",
        "print(combined_data.head())\n",
        "\n",
        "# Save the combined data to a CSV file\n",
        "combined_data.to_csv('combined_data.csv', index=False)\n",
        "head_data = combined_data.head()\n",
        "print(head_data)"
      ],
      "metadata": {
        "colab": {
          "base_uri": "https://localhost:8080/"
        },
        "id": "H4Kq4IN2wVFL",
        "outputId": "6dcb7bb6-ee24-490c-e3c0-ef6a250c4be3"
      },
      "execution_count": 15,
      "outputs": [
        {
          "output_type": "stream",
          "name": "stdout",
          "text": [
            "Index(['name', 'followers', 'engagement_avg', 'platform'], dtype='object')\n",
            "            name  followers  engagement_avg   platform\n",
            "0            433  485000000        0.007899  Instagram\n",
            "1   __youngbae__  127000000        0.003764  Instagram\n",
            "2    _agentgirl_  188000000        0.016532  Instagram\n",
            "3    _imyour_joy  135000000        0.081481  Instagram\n",
            "4  _jeongjaehyun  111000000        0.225225  Instagram\n",
            "            name  followers  engagement_avg   platform\n",
            "0            433  485000000        0.007899  Instagram\n",
            "1   __youngbae__  127000000        0.003764  Instagram\n",
            "2    _agentgirl_  188000000        0.016532  Instagram\n",
            "3    _imyour_joy  135000000        0.081481  Instagram\n",
            "4  _jeongjaehyun  111000000        0.225225  Instagram\n"
          ]
        }
      ]
    },
    {
      "cell_type": "markdown",
      "source": [
        "INFLUENCER DEFINATION"
      ],
      "metadata": {
        "id": "7Eh0IBJAJtMk"
      }
    },
    {
      "cell_type": "code",
      "source": [
        "# Define \"is_influencer\" based on thresholds\n",
        "def label_influencer(row):\n",
        "    if row['followers'] >= 150000 and row['engagement_avg'] >= 0.005:\n",
        "        return 1  # Influencer\n",
        "    else:\n",
        "        return 0  # Non-influencer\n",
        "\n",
        "combined_data['is_influencer'] = combined_data.apply(label_influencer, axis=1)\n",
        "\n",
        "print(combined_data)"
      ],
      "metadata": {
        "colab": {
          "base_uri": "https://localhost:8080/"
        },
        "id": "5SM8Cd4xwVHQ",
        "outputId": "2c78c95c-903f-4da5-d53f-8ec93994afff"
      },
      "execution_count": 32,
      "outputs": [
        {
          "output_type": "stream",
          "name": "stdout",
          "text": [
            "               name  followers  engagement_avg   platform  is_influencer  \\\n",
            "0               433  485000000        0.007899  Instagram              1   \n",
            "1      __youngbae__  127000000        0.003764  Instagram              0   \n",
            "2       _agentgirl_  188000000        0.016532  Instagram              1   \n",
            "3       _imyour_joy  135000000        0.081481  Instagram              1   \n",
            "4     _jeongjaehyun  111000000        0.225225  Instagram              1   \n",
            "...             ...        ...             ...        ...            ...   \n",
            "2995    futparódias   92000000        0.080429    YouTube              1   \n",
            "2996        el gato   92000000        0.126184    YouTube              1   \n",
            "2997     cinemasins   92000000        0.347547    YouTube              1   \n",
            "2998     cricketicc   92000000        0.006000    YouTube              1   \n",
            "2999        brksedu   92000000        0.087485    YouTube              1   \n",
            "\n",
            "      platform_encoded  \n",
            "0                    0  \n",
            "1                    0  \n",
            "2                    0  \n",
            "3                    0  \n",
            "4                    0  \n",
            "...                ...  \n",
            "2995                 2  \n",
            "2996                 2  \n",
            "2997                 2  \n",
            "2998                 2  \n",
            "2999                 2  \n",
            "\n",
            "[3000 rows x 6 columns]\n"
          ]
        }
      ]
    },
    {
      "cell_type": "code",
      "source": [
        "# Encode platform as a numeric variable\n",
        "label_encoder = LabelEncoder()\n",
        "combined_data['platform_encoded'] = label_encoder.fit_transform(combined_data['platform'])\n",
        "joblib.dump(label_encoder, \"platform_label_encoder.pkl\")"
      ],
      "metadata": {
        "colab": {
          "base_uri": "https://localhost:8080/"
        },
        "id": "dPfFmHtTEfeN",
        "outputId": "f7de698a-a303-49fa-9acb-608085f3a528"
      },
      "execution_count": 36,
      "outputs": [
        {
          "output_type": "execute_result",
          "data": {
            "text/plain": [
              "['platform_label_encoder.pkl']"
            ]
          },
          "metadata": {},
          "execution_count": 36
        }
      ]
    },
    {
      "cell_type": "code",
      "source": [
        "# Define features and target\n",
        "features = ['followers', 'engagement_avg', 'platform_encoded']\n",
        "X = combined_data[features]\n",
        "y = combined_data['is_influencer']"
      ],
      "metadata": {
        "id": "ykPYXp0uEfhY"
      },
      "execution_count": 34,
      "outputs": []
    },
    {
      "cell_type": "markdown",
      "source": [
        "TRAINING AND TESTING"
      ],
      "metadata": {
        "id": "UtRYTueBJ65J"
      }
    },
    {
      "cell_type": "code",
      "source": [
        "# Split into training and testing sets\n",
        "X_train, X_test, y_train, y_test = train_test_split(X, y, test_size=0.3, random_state=42)"
      ],
      "metadata": {
        "id": "XNX8elQnJ38e"
      },
      "execution_count": 37,
      "outputs": []
    },
    {
      "cell_type": "code",
      "source": [
        "# Clean data\n",
        "X_train[np.isinf(X_train)] = np.nan\n",
        "X_test[np.isinf(X_test)] = np.nan\n",
        "\n",
        "X_train[np.isnan(X_train)] = 0\n",
        "X_test[np.isnan(X_test)] = 0\n",
        "\n",
        "X_train = np.clip(X_train, -1e10, 1e10)\n",
        "X_test = np.clip(X_test, -1e10, 1e10)\n",
        "\n",
        "# Normalize data\n",
        "scaler = MinMaxScaler()\n",
        "X_train = scaler.fit_transform(X_train)\n",
        "X_test = scaler.transform(X_test)"
      ],
      "metadata": {
        "id": "LaBQDvEJEfj-"
      },
      "execution_count": 38,
      "outputs": []
    },
    {
      "cell_type": "code",
      "source": [
        "# Train model\n",
        "model = RandomForestClassifier(random_state=42)\n",
        "model.fit(X_train, y_train)"
      ],
      "metadata": {
        "colab": {
          "base_uri": "https://localhost:8080/",
          "height": 80
        },
        "id": "yg01xGdvKOEs",
        "outputId": "1d3570e5-1973-413c-847f-59fbe758a538"
      },
      "execution_count": 39,
      "outputs": [
        {
          "output_type": "execute_result",
          "data": {
            "text/plain": [
              "RandomForestClassifier(random_state=42)"
            ],
            "text/html": [
              "<style>#sk-container-id-2 {\n",
              "  /* Definition of color scheme common for light and dark mode */\n",
              "  --sklearn-color-text: black;\n",
              "  --sklearn-color-line: gray;\n",
              "  /* Definition of color scheme for unfitted estimators */\n",
              "  --sklearn-color-unfitted-level-0: #fff5e6;\n",
              "  --sklearn-color-unfitted-level-1: #f6e4d2;\n",
              "  --sklearn-color-unfitted-level-2: #ffe0b3;\n",
              "  --sklearn-color-unfitted-level-3: chocolate;\n",
              "  /* Definition of color scheme for fitted estimators */\n",
              "  --sklearn-color-fitted-level-0: #f0f8ff;\n",
              "  --sklearn-color-fitted-level-1: #d4ebff;\n",
              "  --sklearn-color-fitted-level-2: #b3dbfd;\n",
              "  --sklearn-color-fitted-level-3: cornflowerblue;\n",
              "\n",
              "  /* Specific color for light theme */\n",
              "  --sklearn-color-text-on-default-background: var(--sg-text-color, var(--theme-code-foreground, var(--jp-content-font-color1, black)));\n",
              "  --sklearn-color-background: var(--sg-background-color, var(--theme-background, var(--jp-layout-color0, white)));\n",
              "  --sklearn-color-border-box: var(--sg-text-color, var(--theme-code-foreground, var(--jp-content-font-color1, black)));\n",
              "  --sklearn-color-icon: #696969;\n",
              "\n",
              "  @media (prefers-color-scheme: dark) {\n",
              "    /* Redefinition of color scheme for dark theme */\n",
              "    --sklearn-color-text-on-default-background: var(--sg-text-color, var(--theme-code-foreground, var(--jp-content-font-color1, white)));\n",
              "    --sklearn-color-background: var(--sg-background-color, var(--theme-background, var(--jp-layout-color0, #111)));\n",
              "    --sklearn-color-border-box: var(--sg-text-color, var(--theme-code-foreground, var(--jp-content-font-color1, white)));\n",
              "    --sklearn-color-icon: #878787;\n",
              "  }\n",
              "}\n",
              "\n",
              "#sk-container-id-2 {\n",
              "  color: var(--sklearn-color-text);\n",
              "}\n",
              "\n",
              "#sk-container-id-2 pre {\n",
              "  padding: 0;\n",
              "}\n",
              "\n",
              "#sk-container-id-2 input.sk-hidden--visually {\n",
              "  border: 0;\n",
              "  clip: rect(1px 1px 1px 1px);\n",
              "  clip: rect(1px, 1px, 1px, 1px);\n",
              "  height: 1px;\n",
              "  margin: -1px;\n",
              "  overflow: hidden;\n",
              "  padding: 0;\n",
              "  position: absolute;\n",
              "  width: 1px;\n",
              "}\n",
              "\n",
              "#sk-container-id-2 div.sk-dashed-wrapped {\n",
              "  border: 1px dashed var(--sklearn-color-line);\n",
              "  margin: 0 0.4em 0.5em 0.4em;\n",
              "  box-sizing: border-box;\n",
              "  padding-bottom: 0.4em;\n",
              "  background-color: var(--sklearn-color-background);\n",
              "}\n",
              "\n",
              "#sk-container-id-2 div.sk-container {\n",
              "  /* jupyter's `normalize.less` sets `[hidden] { display: none; }`\n",
              "     but bootstrap.min.css set `[hidden] { display: none !important; }`\n",
              "     so we also need the `!important` here to be able to override the\n",
              "     default hidden behavior on the sphinx rendered scikit-learn.org.\n",
              "     See: https://github.com/scikit-learn/scikit-learn/issues/21755 */\n",
              "  display: inline-block !important;\n",
              "  position: relative;\n",
              "}\n",
              "\n",
              "#sk-container-id-2 div.sk-text-repr-fallback {\n",
              "  display: none;\n",
              "}\n",
              "\n",
              "div.sk-parallel-item,\n",
              "div.sk-serial,\n",
              "div.sk-item {\n",
              "  /* draw centered vertical line to link estimators */\n",
              "  background-image: linear-gradient(var(--sklearn-color-text-on-default-background), var(--sklearn-color-text-on-default-background));\n",
              "  background-size: 2px 100%;\n",
              "  background-repeat: no-repeat;\n",
              "  background-position: center center;\n",
              "}\n",
              "\n",
              "/* Parallel-specific style estimator block */\n",
              "\n",
              "#sk-container-id-2 div.sk-parallel-item::after {\n",
              "  content: \"\";\n",
              "  width: 100%;\n",
              "  border-bottom: 2px solid var(--sklearn-color-text-on-default-background);\n",
              "  flex-grow: 1;\n",
              "}\n",
              "\n",
              "#sk-container-id-2 div.sk-parallel {\n",
              "  display: flex;\n",
              "  align-items: stretch;\n",
              "  justify-content: center;\n",
              "  background-color: var(--sklearn-color-background);\n",
              "  position: relative;\n",
              "}\n",
              "\n",
              "#sk-container-id-2 div.sk-parallel-item {\n",
              "  display: flex;\n",
              "  flex-direction: column;\n",
              "}\n",
              "\n",
              "#sk-container-id-2 div.sk-parallel-item:first-child::after {\n",
              "  align-self: flex-end;\n",
              "  width: 50%;\n",
              "}\n",
              "\n",
              "#sk-container-id-2 div.sk-parallel-item:last-child::after {\n",
              "  align-self: flex-start;\n",
              "  width: 50%;\n",
              "}\n",
              "\n",
              "#sk-container-id-2 div.sk-parallel-item:only-child::after {\n",
              "  width: 0;\n",
              "}\n",
              "\n",
              "/* Serial-specific style estimator block */\n",
              "\n",
              "#sk-container-id-2 div.sk-serial {\n",
              "  display: flex;\n",
              "  flex-direction: column;\n",
              "  align-items: center;\n",
              "  background-color: var(--sklearn-color-background);\n",
              "  padding-right: 1em;\n",
              "  padding-left: 1em;\n",
              "}\n",
              "\n",
              "\n",
              "/* Toggleable style: style used for estimator/Pipeline/ColumnTransformer box that is\n",
              "clickable and can be expanded/collapsed.\n",
              "- Pipeline and ColumnTransformer use this feature and define the default style\n",
              "- Estimators will overwrite some part of the style using the `sk-estimator` class\n",
              "*/\n",
              "\n",
              "/* Pipeline and ColumnTransformer style (default) */\n",
              "\n",
              "#sk-container-id-2 div.sk-toggleable {\n",
              "  /* Default theme specific background. It is overwritten whether we have a\n",
              "  specific estimator or a Pipeline/ColumnTransformer */\n",
              "  background-color: var(--sklearn-color-background);\n",
              "}\n",
              "\n",
              "/* Toggleable label */\n",
              "#sk-container-id-2 label.sk-toggleable__label {\n",
              "  cursor: pointer;\n",
              "  display: block;\n",
              "  width: 100%;\n",
              "  margin-bottom: 0;\n",
              "  padding: 0.5em;\n",
              "  box-sizing: border-box;\n",
              "  text-align: center;\n",
              "}\n",
              "\n",
              "#sk-container-id-2 label.sk-toggleable__label-arrow:before {\n",
              "  /* Arrow on the left of the label */\n",
              "  content: \"▸\";\n",
              "  float: left;\n",
              "  margin-right: 0.25em;\n",
              "  color: var(--sklearn-color-icon);\n",
              "}\n",
              "\n",
              "#sk-container-id-2 label.sk-toggleable__label-arrow:hover:before {\n",
              "  color: var(--sklearn-color-text);\n",
              "}\n",
              "\n",
              "/* Toggleable content - dropdown */\n",
              "\n",
              "#sk-container-id-2 div.sk-toggleable__content {\n",
              "  max-height: 0;\n",
              "  max-width: 0;\n",
              "  overflow: hidden;\n",
              "  text-align: left;\n",
              "  /* unfitted */\n",
              "  background-color: var(--sklearn-color-unfitted-level-0);\n",
              "}\n",
              "\n",
              "#sk-container-id-2 div.sk-toggleable__content.fitted {\n",
              "  /* fitted */\n",
              "  background-color: var(--sklearn-color-fitted-level-0);\n",
              "}\n",
              "\n",
              "#sk-container-id-2 div.sk-toggleable__content pre {\n",
              "  margin: 0.2em;\n",
              "  border-radius: 0.25em;\n",
              "  color: var(--sklearn-color-text);\n",
              "  /* unfitted */\n",
              "  background-color: var(--sklearn-color-unfitted-level-0);\n",
              "}\n",
              "\n",
              "#sk-container-id-2 div.sk-toggleable__content.fitted pre {\n",
              "  /* unfitted */\n",
              "  background-color: var(--sklearn-color-fitted-level-0);\n",
              "}\n",
              "\n",
              "#sk-container-id-2 input.sk-toggleable__control:checked~div.sk-toggleable__content {\n",
              "  /* Expand drop-down */\n",
              "  max-height: 200px;\n",
              "  max-width: 100%;\n",
              "  overflow: auto;\n",
              "}\n",
              "\n",
              "#sk-container-id-2 input.sk-toggleable__control:checked~label.sk-toggleable__label-arrow:before {\n",
              "  content: \"▾\";\n",
              "}\n",
              "\n",
              "/* Pipeline/ColumnTransformer-specific style */\n",
              "\n",
              "#sk-container-id-2 div.sk-label input.sk-toggleable__control:checked~label.sk-toggleable__label {\n",
              "  color: var(--sklearn-color-text);\n",
              "  background-color: var(--sklearn-color-unfitted-level-2);\n",
              "}\n",
              "\n",
              "#sk-container-id-2 div.sk-label.fitted input.sk-toggleable__control:checked~label.sk-toggleable__label {\n",
              "  background-color: var(--sklearn-color-fitted-level-2);\n",
              "}\n",
              "\n",
              "/* Estimator-specific style */\n",
              "\n",
              "/* Colorize estimator box */\n",
              "#sk-container-id-2 div.sk-estimator input.sk-toggleable__control:checked~label.sk-toggleable__label {\n",
              "  /* unfitted */\n",
              "  background-color: var(--sklearn-color-unfitted-level-2);\n",
              "}\n",
              "\n",
              "#sk-container-id-2 div.sk-estimator.fitted input.sk-toggleable__control:checked~label.sk-toggleable__label {\n",
              "  /* fitted */\n",
              "  background-color: var(--sklearn-color-fitted-level-2);\n",
              "}\n",
              "\n",
              "#sk-container-id-2 div.sk-label label.sk-toggleable__label,\n",
              "#sk-container-id-2 div.sk-label label {\n",
              "  /* The background is the default theme color */\n",
              "  color: var(--sklearn-color-text-on-default-background);\n",
              "}\n",
              "\n",
              "/* On hover, darken the color of the background */\n",
              "#sk-container-id-2 div.sk-label:hover label.sk-toggleable__label {\n",
              "  color: var(--sklearn-color-text);\n",
              "  background-color: var(--sklearn-color-unfitted-level-2);\n",
              "}\n",
              "\n",
              "/* Label box, darken color on hover, fitted */\n",
              "#sk-container-id-2 div.sk-label.fitted:hover label.sk-toggleable__label.fitted {\n",
              "  color: var(--sklearn-color-text);\n",
              "  background-color: var(--sklearn-color-fitted-level-2);\n",
              "}\n",
              "\n",
              "/* Estimator label */\n",
              "\n",
              "#sk-container-id-2 div.sk-label label {\n",
              "  font-family: monospace;\n",
              "  font-weight: bold;\n",
              "  display: inline-block;\n",
              "  line-height: 1.2em;\n",
              "}\n",
              "\n",
              "#sk-container-id-2 div.sk-label-container {\n",
              "  text-align: center;\n",
              "}\n",
              "\n",
              "/* Estimator-specific */\n",
              "#sk-container-id-2 div.sk-estimator {\n",
              "  font-family: monospace;\n",
              "  border: 1px dotted var(--sklearn-color-border-box);\n",
              "  border-radius: 0.25em;\n",
              "  box-sizing: border-box;\n",
              "  margin-bottom: 0.5em;\n",
              "  /* unfitted */\n",
              "  background-color: var(--sklearn-color-unfitted-level-0);\n",
              "}\n",
              "\n",
              "#sk-container-id-2 div.sk-estimator.fitted {\n",
              "  /* fitted */\n",
              "  background-color: var(--sklearn-color-fitted-level-0);\n",
              "}\n",
              "\n",
              "/* on hover */\n",
              "#sk-container-id-2 div.sk-estimator:hover {\n",
              "  /* unfitted */\n",
              "  background-color: var(--sklearn-color-unfitted-level-2);\n",
              "}\n",
              "\n",
              "#sk-container-id-2 div.sk-estimator.fitted:hover {\n",
              "  /* fitted */\n",
              "  background-color: var(--sklearn-color-fitted-level-2);\n",
              "}\n",
              "\n",
              "/* Specification for estimator info (e.g. \"i\" and \"?\") */\n",
              "\n",
              "/* Common style for \"i\" and \"?\" */\n",
              "\n",
              ".sk-estimator-doc-link,\n",
              "a:link.sk-estimator-doc-link,\n",
              "a:visited.sk-estimator-doc-link {\n",
              "  float: right;\n",
              "  font-size: smaller;\n",
              "  line-height: 1em;\n",
              "  font-family: monospace;\n",
              "  background-color: var(--sklearn-color-background);\n",
              "  border-radius: 1em;\n",
              "  height: 1em;\n",
              "  width: 1em;\n",
              "  text-decoration: none !important;\n",
              "  margin-left: 1ex;\n",
              "  /* unfitted */\n",
              "  border: var(--sklearn-color-unfitted-level-1) 1pt solid;\n",
              "  color: var(--sklearn-color-unfitted-level-1);\n",
              "}\n",
              "\n",
              ".sk-estimator-doc-link.fitted,\n",
              "a:link.sk-estimator-doc-link.fitted,\n",
              "a:visited.sk-estimator-doc-link.fitted {\n",
              "  /* fitted */\n",
              "  border: var(--sklearn-color-fitted-level-1) 1pt solid;\n",
              "  color: var(--sklearn-color-fitted-level-1);\n",
              "}\n",
              "\n",
              "/* On hover */\n",
              "div.sk-estimator:hover .sk-estimator-doc-link:hover,\n",
              ".sk-estimator-doc-link:hover,\n",
              "div.sk-label-container:hover .sk-estimator-doc-link:hover,\n",
              ".sk-estimator-doc-link:hover {\n",
              "  /* unfitted */\n",
              "  background-color: var(--sklearn-color-unfitted-level-3);\n",
              "  color: var(--sklearn-color-background);\n",
              "  text-decoration: none;\n",
              "}\n",
              "\n",
              "div.sk-estimator.fitted:hover .sk-estimator-doc-link.fitted:hover,\n",
              ".sk-estimator-doc-link.fitted:hover,\n",
              "div.sk-label-container:hover .sk-estimator-doc-link.fitted:hover,\n",
              ".sk-estimator-doc-link.fitted:hover {\n",
              "  /* fitted */\n",
              "  background-color: var(--sklearn-color-fitted-level-3);\n",
              "  color: var(--sklearn-color-background);\n",
              "  text-decoration: none;\n",
              "}\n",
              "\n",
              "/* Span, style for the box shown on hovering the info icon */\n",
              ".sk-estimator-doc-link span {\n",
              "  display: none;\n",
              "  z-index: 9999;\n",
              "  position: relative;\n",
              "  font-weight: normal;\n",
              "  right: .2ex;\n",
              "  padding: .5ex;\n",
              "  margin: .5ex;\n",
              "  width: min-content;\n",
              "  min-width: 20ex;\n",
              "  max-width: 50ex;\n",
              "  color: var(--sklearn-color-text);\n",
              "  box-shadow: 2pt 2pt 4pt #999;\n",
              "  /* unfitted */\n",
              "  background: var(--sklearn-color-unfitted-level-0);\n",
              "  border: .5pt solid var(--sklearn-color-unfitted-level-3);\n",
              "}\n",
              "\n",
              ".sk-estimator-doc-link.fitted span {\n",
              "  /* fitted */\n",
              "  background: var(--sklearn-color-fitted-level-0);\n",
              "  border: var(--sklearn-color-fitted-level-3);\n",
              "}\n",
              "\n",
              ".sk-estimator-doc-link:hover span {\n",
              "  display: block;\n",
              "}\n",
              "\n",
              "/* \"?\"-specific style due to the `<a>` HTML tag */\n",
              "\n",
              "#sk-container-id-2 a.estimator_doc_link {\n",
              "  float: right;\n",
              "  font-size: 1rem;\n",
              "  line-height: 1em;\n",
              "  font-family: monospace;\n",
              "  background-color: var(--sklearn-color-background);\n",
              "  border-radius: 1rem;\n",
              "  height: 1rem;\n",
              "  width: 1rem;\n",
              "  text-decoration: none;\n",
              "  /* unfitted */\n",
              "  color: var(--sklearn-color-unfitted-level-1);\n",
              "  border: var(--sklearn-color-unfitted-level-1) 1pt solid;\n",
              "}\n",
              "\n",
              "#sk-container-id-2 a.estimator_doc_link.fitted {\n",
              "  /* fitted */\n",
              "  border: var(--sklearn-color-fitted-level-1) 1pt solid;\n",
              "  color: var(--sklearn-color-fitted-level-1);\n",
              "}\n",
              "\n",
              "/* On hover */\n",
              "#sk-container-id-2 a.estimator_doc_link:hover {\n",
              "  /* unfitted */\n",
              "  background-color: var(--sklearn-color-unfitted-level-3);\n",
              "  color: var(--sklearn-color-background);\n",
              "  text-decoration: none;\n",
              "}\n",
              "\n",
              "#sk-container-id-2 a.estimator_doc_link.fitted:hover {\n",
              "  /* fitted */\n",
              "  background-color: var(--sklearn-color-fitted-level-3);\n",
              "}\n",
              "</style><div id=\"sk-container-id-2\" class=\"sk-top-container\"><div class=\"sk-text-repr-fallback\"><pre>RandomForestClassifier(random_state=42)</pre><b>In a Jupyter environment, please rerun this cell to show the HTML representation or trust the notebook. <br />On GitHub, the HTML representation is unable to render, please try loading this page with nbviewer.org.</b></div><div class=\"sk-container\" hidden><div class=\"sk-item\"><div class=\"sk-estimator fitted sk-toggleable\"><input class=\"sk-toggleable__control sk-hidden--visually\" id=\"sk-estimator-id-2\" type=\"checkbox\" checked><label for=\"sk-estimator-id-2\" class=\"sk-toggleable__label fitted sk-toggleable__label-arrow fitted\">&nbsp;&nbsp;RandomForestClassifier<a class=\"sk-estimator-doc-link fitted\" rel=\"noreferrer\" target=\"_blank\" href=\"https://scikit-learn.org/1.5/modules/generated/sklearn.ensemble.RandomForestClassifier.html\">?<span>Documentation for RandomForestClassifier</span></a><span class=\"sk-estimator-doc-link fitted\">i<span>Fitted</span></span></label><div class=\"sk-toggleable__content fitted\"><pre>RandomForestClassifier(random_state=42)</pre></div> </div></div></div></div>"
            ]
          },
          "metadata": {},
          "execution_count": 39
        }
      ]
    },
    {
      "cell_type": "code",
      "source": [
        "# Make predictions\n",
        "y_pred = model.predict(X_test)\n",
        "\n",
        "# Evaluate model performance\n",
        "print(classification_report(y_test, y_pred))\n",
        "\n",
        "# Confusion Matrix\n",
        "sns.heatmap(confusion_matrix(y_test, y_pred), annot=True, fmt='d', cmap='Blues')\n",
        "plt.title(\"Confusion Matrix\")\n",
        "plt.show()"
      ],
      "metadata": {
        "colab": {
          "base_uri": "https://localhost:8080/",
          "height": 608
        },
        "id": "mGSqfc5xEfmd",
        "outputId": "f6c691bb-ec29-404f-bad5-5ab81c9c351d"
      },
      "execution_count": 40,
      "outputs": [
        {
          "output_type": "stream",
          "name": "stdout",
          "text": [
            "              precision    recall  f1-score   support\n",
            "\n",
            "           0       1.00      1.00      1.00       155\n",
            "           1       1.00      1.00      1.00       745\n",
            "\n",
            "    accuracy                           1.00       900\n",
            "   macro avg       1.00      1.00      1.00       900\n",
            "weighted avg       1.00      1.00      1.00       900\n",
            "\n"
          ]
        },
        {
          "output_type": "display_data",
          "data": {
            "text/plain": [
              "<Figure size 640x480 with 2 Axes>"
            ],
            "image/png": "[encoded data removed]"
          },
          "metadata": {}
        }
      ]
    },
    {
      "cell_type": "code",
      "source": [
        "# Plot feature importance\n",
        "feature_importances = pd.Series(model.feature_importances_, index=features).sort_values(ascending=False)\n",
        "feature_importances.plot(kind='bar', title='Feature Importance', color='skyblue')\n",
        "plt.show()"
      ],
      "metadata": {
        "colab": {
          "base_uri": "https://localhost:8080/",
          "height": 564
        },
        "id": "LVjjK39IEfp8",
        "outputId": "9dd20ab4-1296-41e4-c4b4-eb3b7d33a420"
      },
      "execution_count": 41,
      "outputs": [
        {
          "output_type": "display_data",
          "data": {
            "text/plain": [
              "<Figure size 640x480 with 1 Axes>"
            ],
            "image/png": "[encoded data removed]"
          },
          "metadata": {}
        }
      ]
    },
    {
      "cell_type": "code",
      "source": [
        "# Save the trained model\n",
        "joblib.dump(model, \"influencer_prediction_model.pkl\")"
      ],
      "metadata": {
        "colab": {
          "base_uri": "https://localhost:8080/"
        },
        "id": "NcwusWu-wVKt",
        "outputId": "f8678d39-727e-4804-ecd7-ae1810bdc612"
      },
      "execution_count": 42,
      "outputs": [
        {
          "output_type": "execute_result",
          "data": {
            "text/plain": [
              "['influencer_prediction_model.pkl']"
            ]
          },
          "metadata": {},
          "execution_count": 42
        }
      ]
    },
    {
      "cell_type": "markdown",
      "source": [
        "LOAD MODEL FOR TESTING"
      ],
      "metadata": {
        "id": "1BxHSMW5I3Nd"
      }
    },
    {
      "cell_type": "code",
      "source": [
        "# Load the saved model and label encoder\n",
        "loaded_model = joblib.load(\"influencer_prediction_model.pkl\")\n",
        "label_encoder = joblib.load(\"platform_label_encoder.pkl\")\n",
        "\n",
        "# Predict for new data\n",
        "new_data = pd.DataFrame({\n",
        "    'followers': [125],\n",
        "    'engagement_rate': [0.001],\n",
        "    'platform_encoded': [1]  # Example: TikTok\n",
        "})\n",
        "prediction = loaded_model.predict(new_data)\n",
        "\n",
        "print(\"Influencer Prediction:\", \"Yes\" if prediction[0] == 1  else \"No\")"
      ],
      "metadata": {
        "colab": {
          "base_uri": "https://localhost:8080/"
        },
        "id": "_RvHAbWCHIX4",
        "outputId": "feda47d7-1875-46fc-853d-a9bd8f5c6d64"
      },
      "execution_count": 50,
      "outputs": [
        {
          "output_type": "stream",
          "name": "stdout",
          "text": [
            "Influencer Prediction: No\n"
          ]
        },
        {
          "output_type": "stream",
          "name": "stderr",
          "text": [
            "/usr/local/lib/python3.10/dist-packages/sklearn/base.py:486: UserWarning: X has feature names, but RandomForestClassifier was fitted without feature names\n",
            "  warnings.warn(\n"
          ]
        }
      ]
    },
    {
      "cell_type": "markdown",
      "source": [
        "INFLUENCER PREDICTION WITH USER INPUT"
      ],
      "metadata": {
        "id": "9k6L2mzIIlBZ"
      }
    },
    {
      "cell_type": "code",
      "source": [
        "import joblib\n",
        "import pandas as pd\n",
        "\n",
        "# Load the saved model and label encoder\n",
        "loaded_model = joblib.load(\"influencer_prediction_model.pkl\")\n",
        "label_encoder = joblib.load(\"platform_label_encoder.pkl\")\n",
        "\n",
        "# Function to take user input and predict influencer status\n",
        "def predict_influencer():\n",
        "    print(\"Enter the details of the social media profile:\")\n",
        "\n",
        "    # Get user input\n",
        "    followers = float(input(\"Enter number of followers: \"))\n",
        "    engagement_rate = float(input(\"Enter engagement rate (e.g., 0.005 for 5%): \"))\n",
        "    platform = input(\"Enter platform (Instagram, TikTok, YouTube): \").strip()\n",
        "\n",
        "    # Encode the platform using the label encoder\n",
        "    try:\n",
        "        platform_encoded = label_encoder.transform([platform])[0]\n",
        "    except ValueError:\n",
        "        print(\"Invalid platform entered. Please choose from 'Instagram', 'TikTok', or 'YouTube'.\")\n",
        "        return\n",
        "\n",
        "    # Create a DataFrame with the input values\n",
        "    input_data = pd.DataFrame({\n",
        "        'followers': followers,\n",
        "        'engagement_rate': engagement_rate,\n",
        "        'platform_encoded': [platform_encoded]\n",
        "    })\n",
        "\n",
        "    # Make the prediction\n",
        "    prediction = loaded_model.predict(input_data)\n",
        "\n",
        "    # Display the result\n",
        "    if prediction[0] == 1:\n",
        "        print(\"This user is likely an influencer!\")\n",
        "    else:\n",
        "        print(\"This user is not an influencer.\")\n",
        "\n",
        "# Call the function to allow user input and prediction\n",
        "predict_influencer()"
      ],
      "metadata": {
        "colab": {
          "base_uri": "https://localhost:8080/"
        },
        "id": "22eA0OfJHIda",
        "outputId": "2e4258b8-0ddb-4420-c606-d418640be317"
      },
      "execution_count": 52,
      "outputs": [
        {
          "output_type": "stream",
          "name": "stdout",
          "text": [
            "Enter the details of the social media profile:\n",
            "Enter number of followers: 15792584\n",
            "Enter engagement rate (e.g., 0.05 for 5%): 0.5\n",
            "Enter platform (Instagram, TikTok, YouTube): Instagram\n",
            "This user is likely an influencer!\n"
          ]
        },
        {
          "output_type": "stream",
          "name": "stderr",
          "text": [
            "/usr/local/lib/python3.10/dist-packages/sklearn/base.py:486: UserWarning: X has feature names, but RandomForestClassifier was fitted without feature names\n",
            "  warnings.warn(\n"
          ]
        }
      ]
    }
  ]
}